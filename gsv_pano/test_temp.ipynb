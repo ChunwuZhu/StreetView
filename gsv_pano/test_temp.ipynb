{
 "cells": [
  {
   "cell_type": "code",
   "execution_count": 1,
   "metadata": {
    "collapsed": true
   },
   "outputs": [],
   "source": [
    "import unittest\n",
    "import math\n",
    "import os\n",
    "import numpy as np\n",
    "import time\n",
    "import glob\n",
    "\n",
    "\n",
    "import pptk\n",
    "import cv2\n",
    "from pano import GSV_pano\n",
    "from PIL import Image\n",
    "import PIL\n",
    "\n",
    "# gsv = GSV_pano()\n",
    "import matplotlib.pyplot as plt"
   ]
  },
  {
   "cell_type": "code",
   "execution_count": 2,
   "outputs": [],
   "source": [
    "seg_file = r'--69cR9y-yjGxq3c-uPBRw.png'\n",
    "\n",
    "panoId = seg_file[:-4]\n",
    "\n",
    "saved_path = r'D:\\Code\\StreetView\\gsv_pano\\test_results'\n",
    "\n",
    "pano1 = GSV_pano(panoId=panoId, crs_local=6487, saved_path=saved_path)\n"
   ],
   "metadata": {
    "collapsed": false,
    "pycharm": {
     "name": "#%%\n"
    }
   }
  },
  {
   "cell_type": "code",
   "execution_count": null,
   "outputs": [],
   "source": [
    "pano1\n",
    "\n",
    "pil_img = Image.open(seg_file)\n",
    "np_img = np.array(pil_img)\n",
    "cv_img = cv2.cvtColor(np_img, cv2.COLOR_GRAY2GRAY)\n",
    "cv_img.imshow(\"opencv\", cv_img)\n"
   ],
   "metadata": {
    "collapsed": false,
    "pycharm": {
     "name": "#%%\n"
    }
   }
  }
 ],
 "metadata": {
  "kernelspec": {
   "name": "google_street_view",
   "language": "python",
   "display_name": "Google_street_view"
  },
  "language_info": {
   "codemirror_mode": {
    "name": "ipython",
    "version": 2
   },
   "file_extension": ".py",
   "mimetype": "text/x-python",
   "name": "python",
   "nbconvert_exporter": "python",
   "pygments_lexer": "ipython2",
   "version": "2.7.6"
  }
 },
 "nbformat": 4,
 "nbformat_minor": 0
}